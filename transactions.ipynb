{
 "cells": [
  {
   "cell_type": "code",
   "execution_count": 1,
   "metadata": {},
   "outputs": [],
   "source": [
    "import numpy as np\n",
    "import scipy.stats\n",
    "import collections"
   ]
  },
  {
   "cell_type": "code",
   "execution_count": 2,
   "metadata": {},
   "outputs": [],
   "source": [
    "f = open('/usr/local/data/transactions.txt', 'r')\n",
    "file = f.read().strip().split('\\n')"
   ]
  },
  {
   "cell_type": "code",
   "execution_count": 4,
   "metadata": {},
   "outputs": [],
   "source": [
    "for i in range(len(file)):\n",
    "     file[i] = file[i].split(',')"
   ]
  },
  {
   "cell_type": "code",
   "execution_count": 5,
   "metadata": {},
   "outputs": [],
   "source": [
    "class Transaction(object):\n",
    "     def __init__(self, num=None,  ID=None, volume=None, segment=None):\n",
    "        self.num = num\n",
    "        self.ID = ID\n",
    "        self.volume = volume\n",
    "        self.segment = segment"
   ]
  },
  {
   "cell_type": "code",
   "execution_count": 6,
   "metadata": {},
   "outputs": [],
   "source": [
    "def _struct_list_(file):\n",
    "    struct_list=[]\n",
    "    for i in range(len(file)):\n",
    "        struct_list.append(Transaction(num=int(file[i][0]), ID=file[i][1], volume=float(file[i][2]), segment=file[i][3]))\n",
    "    \n",
    "    return struct_list"
   ]
  },
  {
   "cell_type": "code",
   "execution_count": 22,
   "metadata": {},
   "outputs": [],
   "source": [
    "class StructList(object):\n",
    "    def __init__(self, struct_list=None, length=None):\n",
    "        self.struct_list = struct_list\n",
    "        self.length = length\n",
    "        \n",
    "    def _clients_number_(self, segment):\n",
    "        clients_id = []\n",
    "        for i in range(self.length):\n",
    "            if self.struct_list[i].segment == segment:\n",
    "                clients_id.append(self.struct_list[i].ID)\n",
    "        \n",
    "        counter = collections.Counter(clients_id)\n",
    "        clients_number = len(counter)\n",
    "        \n",
    "        return clients_number\n",
    "    \n",
    "    def _transactions_number_(self, segment):\n",
    "        number = 0\n",
    "        for i in range(self.length):\n",
    "            if self.struct_list[i].segment == segment:\n",
    "                number += 1\n",
    "            \n",
    "        return number\n",
    "    \n",
    "    def _avg_volume_(self, segment):\n",
    "        volume = 0\n",
    "        for i in range(self.length):\n",
    "            if self.struct_list[i].segment == segment:\n",
    "                volume += self.struct_list[i].volume\n",
    "        \n",
    "        number = self._transactions_number_(segment)\n",
    "        avg = volume/number\n",
    "        \n",
    "        return avg\n",
    "    \n",
    "    def _std_volume_(self, segment):\n",
    "        sVar = 0\n",
    "        avg = self._avg_volume_(segment)\n",
    "        for i in range(self.length):\n",
    "            if self.struct_list[i].segment == segment:\n",
    "                sVar += (self.struct_list[i].volume - avg)**2\n",
    "        \n",
    "        number = self._transactions_number_(segment)\n",
    "        sVar = sVar/(number - 1)\n",
    "        \n",
    "        return sVar**0.5\n",
    "\n",
    "    '''\n",
    "    Assuming average volume is normally distributed and Student distribution can be well approximated by normal one\n",
    "    on a large sample\n",
    "    '''\n",
    "    \n",
    "    def _avg_interval_(self, segment, rate):\n",
    "        \n",
    "        avg = self._avg_volume_(segment)\n",
    "        std = self._std_volume_(segment)\n",
    "        number = self._transactions_number_(segment)\n",
    "        \n",
    "        avg_min = avg - std/(number**0.5)*scipy.stats.norm.ppf(rate + 0.5*(1 - rate))\n",
    "        avg_max = avg + std/(number**0.5)*scipy.stats.norm.ppf(rate + 0.5*(1 - rate))\n",
    "        \n",
    "        return np.array((avg_min, avg_max))\n",
    "\n",
    "    def _avg_equity_hypothesis_(self, level):\n",
    "        \n",
    "        r_std = self._std_volume_(segment='R')\n",
    "        af_std = self._std_volume_(segment='AF')\n",
    "        \n",
    "        r_num = self._transactions_number_(segment='R')\n",
    "        af_num = self._transactions_number_(segment='AF')\n",
    "        \n",
    "        std = (r_std**2/r_num + af_std**2/af_num)**0.5\n",
    "        \n",
    "        r_avg = self._avg_volume_(segment='R')\n",
    "        af_avg = self._avg_volume_(segment='AF')\n",
    "        \n",
    "        stats = abs(r_avg - af_avg)\n",
    "        thstats = std*scipy.stats.norm.ppf(1 - level/2)\n",
    "        \n",
    "        if stats < thstats:\n",
    "            answer = 'not rejected'\n",
    "        else:\n",
    "            answer = 'rejected'\n",
    "        \n",
    "        return answer"
   ]
  },
  {
   "cell_type": "code",
   "execution_count": 23,
   "metadata": {},
   "outputs": [],
   "source": [
    "struct_list = _struct_list_(file)"
   ]
  },
  {
   "cell_type": "code",
   "execution_count": 24,
   "metadata": {},
   "outputs": [],
   "source": [
    "sl = StructList(struct_list, len(struct_list))"
   ]
  },
  {
   "cell_type": "code",
   "execution_count": 25,
   "metadata": {},
   "outputs": [],
   "source": [
    "r_number = sl._clients_number_(segment='R')\n",
    "af_number = sl._clients_number_(segment='AF')"
   ]
  },
  {
   "cell_type": "code",
   "execution_count": 26,
   "metadata": {},
   "outputs": [],
   "source": [
    "r_avg = sl._avg_volume_(segment='R')\n",
    "af_avg = sl._avg_volume_(segment='AF')"
   ]
  },
  {
   "cell_type": "code",
   "execution_count": 27,
   "metadata": {},
   "outputs": [
    {
     "name": "stdout",
     "output_type": "stream",
     "text": [
      "2 clients made transactions in segment 'R'\n",
      "2 clients made transactions in segment 'AF'\n"
     ]
    }
   ],
   "source": [
    "for num, segm in zip([r_number, af_number], ['R', 'AF']):\n",
    "    print(\"{} clients made transactions in segment '{}'\".format(num, segm))"
   ]
  },
  {
   "cell_type": "code",
   "execution_count": 28,
   "metadata": {},
   "outputs": [
    {
     "name": "stdout",
     "output_type": "stream",
     "text": [
      "Average volume of a single transaction in segment 'R' is 2486.67\n",
      "Average volume of a single transaction in segment 'AF' is 35299.97\n"
     ]
    }
   ],
   "source": [
    "for segm, avg in zip(['R', 'AF'], [r_avg, af_avg]):\n",
    "    print(\"Average volume of a single transaction in segment '{}' is {:.2f}\".format(segm, avg))"
   ]
  },
  {
   "cell_type": "code",
   "execution_count": 29,
   "metadata": {},
   "outputs": [],
   "source": [
    "rate = 0.9\n",
    "level = 0.1"
   ]
  },
  {
   "cell_type": "code",
   "execution_count": 30,
   "metadata": {},
   "outputs": [],
   "source": [
    "r_interval = sl._avg_interval_(segment='R', rate=rate)\n",
    "af_interval = sl._avg_interval_(segment='AF', rate=rate)"
   ]
  },
  {
   "cell_type": "code",
   "execution_count": 31,
   "metadata": {},
   "outputs": [
    {
     "name": "stdout",
     "output_type": "stream",
     "text": [
      "90.0% confidence interval for average volume of a single transaction in segment R is [2485.17, 2488.17]\n",
      "90.0% confidence interval for average volume of a single transaction in segment AF is [35247.92, 35352.02]\n"
     ]
    }
   ],
   "source": [
    "for segm, interval in zip(['R', 'AF'], [r_interval, af_interval]):\n",
    "    print(\"{}% confidence interval for average volume of a single transaction in segment {} is [{:.2f}, {:.2f}]\".format(rate*100, segm, interval[0], interval[1]))"
   ]
  },
  {
   "cell_type": "code",
   "execution_count": 32,
   "metadata": {},
   "outputs": [],
   "source": [
    "answer = sl._avg_equity_hypothesis_(level=level)"
   ]
  },
  {
   "cell_type": "code",
   "execution_count": 33,
   "metadata": {},
   "outputs": [
    {
     "name": "stdout",
     "output_type": "stream",
     "text": [
      "On a significance level of 10.0% null hypothesis for equality of average volumes of single transactions in segments 'R' and 'AF' is rejected\n"
     ]
    }
   ],
   "source": [
    "print(\"On a significance level of {}% null hypothesis for equality of average volumes of single transactions in segments 'R' and 'AF' is {}\".format(level*100, answer))"
   ]
  }
 ],
 "metadata": {
  "kernelspec": {
   "display_name": "Python 3",
   "language": "python",
   "name": "python3"
  },
  "language_info": {
   "codemirror_mode": {
    "name": "ipython",
    "version": 3
   },
   "file_extension": ".py",
   "mimetype": "text/x-python",
   "name": "python",
   "nbconvert_exporter": "python",
   "pygments_lexer": "ipython3",
   "version": "3.7.3"
  }
 },
 "nbformat": 4,
 "nbformat_minor": 2
}
